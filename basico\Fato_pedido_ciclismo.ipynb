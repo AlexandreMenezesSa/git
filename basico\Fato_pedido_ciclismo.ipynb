{
  "nbformat": 4,
  "nbformat_minor": 0,
  "metadata": {
    "colab": {
      "provenance": [],
      "toc_visible": true,
      "authorship_tag": "ABX9TyONIS/mxYolnymCoZE8Nwvw",
      "include_colab_link": true
    },
    "kernelspec": {
      "name": "python3",
      "display_name": "Python 3"
    },
    "language_info": {
      "name": "python"
    }
  },
  "cells": [
    {
      "cell_type": "markdown",
      "metadata": {
        "id": "view-in-github",
        "colab_type": "text"
      },
      "source": [
        "<a href=\"https://colab.research.google.com/github/AlexandreMenezesSa/pyspark/blob/main/basico%5CFato_pedido_ciclismo.ipynb\" target=\"_parent\"><img src=\"https://colab.research.google.com/assets/colab-badge.svg\" alt=\"Open In Colab\"/></a>"
      ]
    },
    {
      "cell_type": "markdown",
      "source": [
        "**Instalação e importação**"
      ],
      "metadata": {
        "id": "9t0_G0Pint7V"
      }
    },
    {
      "cell_type": "code",
      "execution_count": null,
      "metadata": {
        "colab": {
          "base_uri": "https://localhost:8080/"
        },
        "id": "xiQJXZrlwHdq",
        "outputId": "edefd05d-b103-43bb-8147-c416946e1239"
      },
      "outputs": [
        {
          "output_type": "stream",
          "name": "stdout",
          "text": [
            "Collecting pyspark\n",
            "  Downloading pyspark-3.5.0.tar.gz (316.9 MB)\n",
            "\u001b[2K     \u001b[90m━━━━━━━━━━━━━━━━━━━━━━━━━━━━━━━━━━━━━━━━\u001b[0m \u001b[32m316.9/316.9 MB\u001b[0m \u001b[31m3.1 MB/s\u001b[0m eta \u001b[36m0:00:00\u001b[0m\n",
            "\u001b[?25h  Preparing metadata (setup.py) ... \u001b[?25l\u001b[?25hdone\n",
            "Requirement already satisfied: py4j==0.10.9.7 in /usr/local/lib/python3.10/dist-packages (from pyspark) (0.10.9.7)\n",
            "Building wheels for collected packages: pyspark\n",
            "  Building wheel for pyspark (setup.py) ... \u001b[?25l\u001b[?25hdone\n",
            "  Created wheel for pyspark: filename=pyspark-3.5.0-py2.py3-none-any.whl size=317425345 sha256=2a96d4e0dcab13bb61e65f455f3ff6a2f164aac2ac755220b70c13d914dbfba3\n",
            "  Stored in directory: /root/.cache/pip/wheels/41/4e/10/c2cf2467f71c678cfc8a6b9ac9241e5e44a01940da8fbb17fc\n",
            "Successfully built pyspark\n",
            "Installing collected packages: pyspark\n",
            "Successfully installed pyspark-3.5.0\n"
          ]
        }
      ],
      "source": [
        "# instalar pyspark\n",
        "!pip install pyspark"
      ]
    },
    {
      "cell_type": "code",
      "source": [
        "#faz importação dos pacotes e inicia a sessão\n",
        "from pyspark.sql import SparkSession\n",
        "from pyspark.sql import SparkSession\n",
        "from pyspark.sql.functions import expr\n",
        "from pyspark.sql.types import *\n",
        "from pyspark.sql import functions as Func\n",
        "from pyspark.sql.functions import *\n",
        "spark = SparkSession.builder.master(\"local[*]\").appName(\"PySpark\").getOrCreate()"
      ],
      "metadata": {
        "id": "lPyhXGjknlLO"
      },
      "execution_count": null,
      "outputs": []
    },
    {
      "cell_type": "markdown",
      "source": [
        "**Impostação das origens **"
      ],
      "metadata": {
        "id": "evdwqmdHn2mr"
      }
    },
    {
      "cell_type": "code",
      "source": [
        "# importação\n",
        "\n",
        "\n",
        "cliente = spark.read.format(\"parquet\").load(\"Clientes.parquet\")\n",
        "ItensVendas = spark.read.format(\"parquet\").load(\"ItensVendas.parquet\")\n",
        "Produtos = spark.read.format(\"parquet\").load(\"Produtos.parquet\")\n",
        "Vendas = spark.read.format(\"parquet\").load(\"Vendas.parquet\")\n",
        "Vendedores = spark.read.format(\"parquet\").load(\"Vendedores.parquet\")\n",
        "cliente.show()\n",
        "ItensVendas.show()\n",
        "Produtos.show()\n",
        "Vendas.show()\n",
        "Vendedores.show()"
      ],
      "metadata": {
        "colab": {
          "base_uri": "https://localhost:8080/"
        },
        "id": "VWTd7D0QntW-",
        "outputId": "0b7faf72-14a2-41fd-9077-3e615ca57053"
      },
      "execution_count": null,
      "outputs": [
        {
          "output_type": "stream",
          "name": "stdout",
          "text": [
            "+---------+--------------------+------+------+--------+\n",
            "|ClienteID|             Cliente|Estado|Genero|  Status|\n",
            "+---------+--------------------+------+------+--------+\n",
            "|        1|Adelina Buenaventura|    RJ|     M|  Silver|\n",
            "|        2|        Adelino Gago|    RJ|     M|  Silver|\n",
            "|        3|     Adolfo Patrício|    PE|     M|  Silver|\n",
            "|        4|    Adriana Guedelha|    RO|     F|Platinum|\n",
            "|        5|       Adélio Lisboa|    SE|     M|  Silver|\n",
            "|        6|       Adérito Bahía|    MA|     M|  Silver|\n",
            "|        7|       Aida Dorneles|    RN|     F|  Silver|\n",
            "|        8|   Alarico Quinterno|    AC|     M|  Silver|\n",
            "|        9|    Alberto Cezimbra|    AM|     M|  Silver|\n",
            "|       10|    Alberto Monsanto|    RN|     M|    Gold|\n",
            "|       11|       Albino Canela|    AC|     M|  Silver|\n",
            "|       12|     Alceste Varanda|    RR|     F|  Silver|\n",
            "|       13|  Alcides Carvalhais|    RO|     M|  Silver|\n",
            "|       14|        Aldo Martins|    GO|     M|  Silver|\n",
            "|       15|   Alexandra Tabares|    MG|     F|  Silver|\n",
            "|       16|      Alfredo Cotrim|    SC|     M|  Silver|\n",
            "|       17|     Almeno Figueira|    SC|     M|  Silver|\n",
            "|       18|      Alvito Peralta|    AM|     M|  Silver|\n",
            "|       19|     Amadeu Martinho|    RN|     M|  Silver|\n",
            "|       20|      Amélia Estévez|    PE|     F|  Silver|\n",
            "+---------+--------------------+------+------+--------+\n",
            "only showing top 20 rows\n",
            "\n",
            "+---------+--------+----------+-------------+----------+--------+----------------+\n",
            "|ProdutoID|VendasID|Quantidade|ValorUnitario|ValorTotal|Desconto|TotalComDesconto|\n",
            "+---------+--------+----------+-------------+----------+--------+----------------+\n",
            "|        2|     400|         2|       9201.0|   18402.0| 6256,68|        12145.32|\n",
            "|        2|     385|         2|       9201.0|   18402.0| 5704,62|        12697.38|\n",
            "|        4|     395|         2|       6892.2|   13784.4| 5100,23|         8684.17|\n",
            "|        4|     367|         2|       6509.3|   13018.6| 4816,88|         8201.72|\n",
            "|        2|     380|         2|      7038.77|  14077.54| 4364,04|          9713.5|\n",
            "|        2|     346|         2|       8280.9|   16561.8| 4140,45|        12421.35|\n",
            "|        2|     339|         2|       8280.9|   16561.8| 3312,36|        13249.44|\n",
            "|        2|     397|         1|       9201.0|    9201.0| 3312,36|         5888.64|\n",
            "|        1|     346|         2|       7966.8|   15933.6| 3186,72|        12746.88|\n",
            "|        2|     264|         2|       8280.9|   16561.8| 3146,74|        13415.06|\n",
            "|        4|     355|         2|      5858.37|  11716.74| 3046,35|         8670.39|\n",
            "|        2|     376|         1|       8280.9|    8280.9| 2981,12|         5299.78|\n",
            "|        2|     374|         1|       9201.0|    9201.0| 2944,32|         6256.68|\n",
            "|        1|     397|         1|       7524.2|    7524.2| 2859,20|          4665.0|\n",
            "|        2|     303|         2|       8280.9|   16561.8| 2815,51|        13746.29|\n",
            "|        4|     358|         2|       6509.3|   13018.6| 2733,91|        10284.69|\n",
            "|        4|     374|         1|       7658.0|    7658.0| 2527,14|         5130.86|\n",
            "|        3|     336|         2|       4255.0|    8510.0| 2467,90|          6042.1|\n",
            "|        1|     399|         1|      6771.78|   6771.78| 2437,84|         4333.94|\n",
            "|        1|     292|         2|      6771.78|  13543.56| 2437,84|        11105.72|\n",
            "+---------+--------+----------+-------------+----------+--------+----------------+\n",
            "only showing top 20 rows\n",
            "\n",
            "+---------+--------------------+---------+\n",
            "|ProdutoID|             Produto|    Preco|\n",
            "+---------+--------------------+---------+\n",
            "|        1|Bicicleta Aro 29 ...|8.852,00 |\n",
            "|        2|Bicicleta Altools...|9.201,00 |\n",
            "|        3|Bicicleta Gts Adv...|4.255,00 |\n",
            "|        4|Bicicleta Trinc C...|7.658,00 |\n",
            "|        5|Bicicleta Gometws...|2.966,00 |\n",
            "|        6|Bicicleta Gometws...|2.955,00 |\n",
            "|        7|Capacete Gometws ...|  155,00 |\n",
            "|        8|Luva De Ciclismo ...|  188,00 |\n",
            "|        9|Bermuda Predactor...|  115,00 |\n",
            "|       10|Camiseta Predacto...|  135,00 |\n",
            "+---------+--------------------+---------+\n",
            "\n",
            "+--------+----------+---------+---------+--------+\n",
            "|VendasID|VendedorID|ClienteID|     Data|   Total|\n",
            "+--------+----------+---------+---------+--------+\n",
            "|       1|         1|       91| 1/1/2019|  8053.6|\n",
            "|       2|         6|      185| 1/1/2020|   150.4|\n",
            "|       3|         7|       31| 2/1/2020|  6087.0|\n",
            "|       4|         5|       31| 2/1/2019| 13828.6|\n",
            "|       5|         5|       31| 3/1/2018|26096.66|\n",
            "|       6|         5|       31| 4/1/2020| 18402.0|\n",
            "|       7|         5|       31| 6/1/2019|  7524.2|\n",
            "|       8|         5|      186| 6/1/2019| 12036.6|\n",
            "|       9|         7|       91| 6/1/2020| 2804.75|\n",
            "|      10|         2|      202| 6/1/2020|  8852.0|\n",
            "|      11|         7|       58| 8/1/2019|16545.25|\n",
            "|      12|         7|       58| 9/1/2018|11411.88|\n",
            "|      13|         7|       58|10/1/2019| 15829.7|\n",
            "|      14|         3|      249|12/1/2020| 6154.36|\n",
            "|      15|         4|      249|12/1/2018| 3255.08|\n",
            "|      16|         7|      192|13/1/2020| 2901.25|\n",
            "|      17|         2|       79|13/1/2019| 15829.7|\n",
            "|      18|        10|       79|14/1/2019|16996.36|\n",
            "|      19|        10|      191|14/1/2019|   155.0|\n",
            "|      20|         9|      218|15/1/2018|  131.75|\n",
            "+--------+----------+---------+---------+--------+\n",
            "only showing top 20 rows\n",
            "\n",
            "+----------+----------------+\n",
            "|VendedorID|        Vendedor|\n",
            "+----------+----------------+\n",
            "|         1|    Armando Lago|\n",
            "|         2|Capitolino Bahía|\n",
            "|         3|   Daniel Pirajá|\n",
            "|         4| Godo Capiperibe|\n",
            "|         5|  Hélio Liberato|\n",
            "|         6|   Iberê Lacerda|\n",
            "|         7|Jéssica Castelão|\n",
            "|         8| Napoleão Méndez|\n",
            "|         9|    Simão Rivero|\n",
            "|        10|  Tobias Furtado|\n",
            "+----------+----------------+\n",
            "\n"
          ]
        }
      ]
    },
    {
      "cell_type": "code",
      "source": [
        "#cliente por status\n",
        "\n",
        "clientestatus = cliente.select(col(\"Cliente\").alias(\"Nome\"),col(\"Estado\"),col(\"Status\"))\n",
        "clientestatus.show()"
      ],
      "metadata": {
        "colab": {
          "base_uri": "https://localhost:8080/"
        },
        "id": "KOtlk1CZ1V4f",
        "outputId": "2ad14f23-54a9-44b9-8b11-f25c08d63551"
      },
      "execution_count": null,
      "outputs": [
        {
          "output_type": "stream",
          "name": "stdout",
          "text": [
            "+--------------------+------+--------+\n",
            "|                Nome|Estado|  Status|\n",
            "+--------------------+------+--------+\n",
            "|Adelina Buenaventura|    RJ|  Silver|\n",
            "|        Adelino Gago|    RJ|  Silver|\n",
            "|     Adolfo Patrício|    PE|  Silver|\n",
            "|    Adriana Guedelha|    RO|Platinum|\n",
            "|       Adélio Lisboa|    SE|  Silver|\n",
            "|       Adérito Bahía|    MA|  Silver|\n",
            "|       Aida Dorneles|    RN|  Silver|\n",
            "|   Alarico Quinterno|    AC|  Silver|\n",
            "|    Alberto Cezimbra|    AM|  Silver|\n",
            "|    Alberto Monsanto|    RN|    Gold|\n",
            "|       Albino Canela|    AC|  Silver|\n",
            "|     Alceste Varanda|    RR|  Silver|\n",
            "|  Alcides Carvalhais|    RO|  Silver|\n",
            "|        Aldo Martins|    GO|  Silver|\n",
            "|   Alexandra Tabares|    MG|  Silver|\n",
            "|      Alfredo Cotrim|    SC|  Silver|\n",
            "|     Almeno Figueira|    SC|  Silver|\n",
            "|      Alvito Peralta|    AM|  Silver|\n",
            "|     Amadeu Martinho|    RN|  Silver|\n",
            "|      Amélia Estévez|    PE|  Silver|\n",
            "+--------------------+------+--------+\n",
            "only showing top 20 rows\n",
            "\n"
          ]
        }
      ]
    },
    {
      "cell_type": "code",
      "source": [
        "clientepremium = cliente.select(col(\"Cliente\").alias(\"Nome\")\n",
        ",col(\"Estado\")\n",
        ",col(\"Status\")).filter((col(\"status\") == \"Platinum\") | (col(\"status\") == \"Gold\"))\n",
        "clientepremium.show()\n",
        "\n"
      ],
      "metadata": {
        "colab": {
          "base_uri": "https://localhost:8080/"
        },
        "id": "sANRreHyy6AP",
        "outputId": "8de397d7-33f6-488f-9c97-15a87b255c4f"
      },
      "execution_count": null,
      "outputs": [
        {
          "output_type": "stream",
          "name": "stdout",
          "text": [
            "+-------------------+------+--------+\n",
            "|               Nome|Estado|  Status|\n",
            "+-------------------+------+--------+\n",
            "|   Adriana Guedelha|    RO|Platinum|\n",
            "|   Alberto Monsanto|    RN|    Gold|\n",
            "|      Anna Carvajal|    RS|    Gold|\n",
            "|      Bento Quintão|    SP|    Gold|\n",
            "|      Carminda Dias|    AM|    Gold|\n",
            "|      Cláudio Jorge|    TO|    Gold|\n",
            "|    Dionísio Saltão|    PR|    Gold|\n",
            "|   Firmino Meireles|    AM|    Gold|\n",
            "|      Flor Vilanova|    CE|Platinum|\n",
            "|Honorina Villaverde|    PE|    Gold|\n",
            "|    Ibijara Botelho|    RR|Platinum|\n",
            "|  Iracema Rodríguez|    BA|    Gold|\n",
            "|         Joana Ataí|    GO|Platinum|\n",
            "+-------------------+------+--------+\n",
            "\n"
          ]
        }
      ]
    },
    {
      "cell_type": "code",
      "source": [
        "clientepremium2 = cliente.select(\n",
        "  col(\"ClienteID\")\n",
        ",col(\"Cliente\").alias(\"Nome\")\n",
        ",col(\"Estado\")\n",
        ",col(\"Status\")).filter((col(\"status\") == \"Platinum\") | (col(\"status\") == \"Gold\"))\n",
        "clientepremium2.show()"
      ],
      "metadata": {
        "colab": {
          "base_uri": "https://localhost:8080/"
        },
        "id": "qSdhk30ZClCS",
        "outputId": "f6863426-9fee-412a-ba70-8b9e9a552ad3"
      },
      "execution_count": null,
      "outputs": [
        {
          "output_type": "stream",
          "name": "stdout",
          "text": [
            "+---------+-------------------+------+--------+\n",
            "|ClienteID|               Nome|Estado|  Status|\n",
            "+---------+-------------------+------+--------+\n",
            "|        4|   Adriana Guedelha|    RO|Platinum|\n",
            "|       10|   Alberto Monsanto|    RN|    Gold|\n",
            "|       28|      Anna Carvajal|    RS|    Gold|\n",
            "|       49|      Bento Quintão|    SP|    Gold|\n",
            "|       68|      Carminda Dias|    AM|    Gold|\n",
            "|       83|      Cláudio Jorge|    TO|    Gold|\n",
            "|      121|    Dionísio Saltão|    PR|    Gold|\n",
            "|      166|   Firmino Meireles|    AM|    Gold|\n",
            "|      170|      Flor Vilanova|    CE|Platinum|\n",
            "|      220|Honorina Villaverde|    PE|    Gold|\n",
            "|      230|    Ibijara Botelho|    RR|Platinum|\n",
            "|      237|  Iracema Rodríguez|    BA|    Gold|\n",
            "|      247|         Joana Ataí|    GO|Platinum|\n",
            "+---------+-------------------+------+--------+\n",
            "\n"
          ]
        }
      ]
    },
    {
      "cell_type": "code",
      "source": [
        "Vendas_cli = Vendas.join(clientepremium2,Vendas.ClienteID == clientepremium2.ClienteID)\n",
        "Vendas_cli.show()"
      ],
      "metadata": {
        "colab": {
          "base_uri": "https://localhost:8080/"
        },
        "id": "s19abpkJ_tzd",
        "outputId": "e64221d9-0e89-4c12-f6cd-bac2b11b608d"
      },
      "execution_count": null,
      "outputs": [
        {
          "output_type": "stream",
          "name": "stdout",
          "text": [
            "+--------+----------+---------+----------+-------+---------+-----------------+------+--------+\n",
            "|VendasID|VendedorID|ClienteID|      Data|  Total|ClienteID|             Nome|Estado|  Status|\n",
            "+--------+----------+---------+----------+-------+---------+-----------------+------+--------+\n",
            "|     295|         3|       83| 2/10/2020|6683.79|       83|    Cláudio Jorge|    TO|    Gold|\n",
            "|     296|         5|      237| 6/10/2019|12167.0|      237|Iracema Rodríguez|    BA|    Gold|\n",
            "|     357|         7|      230|24/11/2020| 422.78|      230|  Ibijara Botelho|    RR|Platinum|\n",
            "|     362|         6|      230|25/11/2020|12161.9|      230|  Ibijara Botelho|    RR|Platinum|\n",
            "|     394|         5|       49|21/12/2019| 8435.9|       49|    Bento Quintão|    SP|    Gold|\n",
            "+--------+----------+---------+----------+-------+---------+-----------------+------+--------+\n",
            "\n"
          ]
        }
      ]
    },
    {
      "cell_type": "code",
      "source": [
        "Vendas_cli_total = Vendas.join(cliente,Vendas.ClienteID == cliente.ClienteID)\n",
        "cliente_vendas = Vendas_cli_total.select(\"Total\",\"Status\")\n",
        "cliente_vendas.groupBy(\"status\").agg(sum(\"Total\")).show()\n"
      ],
      "metadata": {
        "colab": {
          "base_uri": "https://localhost:8080/"
        },
        "id": "1e9OITyxHLO3",
        "outputId": "730b8bf1-593a-4f08-c44a-f4d6808026fb"
      },
      "execution_count": null,
      "outputs": [
        {
          "output_type": "stream",
          "name": "stdout",
          "text": [
            "+--------+------------------+\n",
            "|  status|        sum(Total)|\n",
            "+--------+------------------+\n",
            "|Platinum|          12584.68|\n",
            "|  Silver|        3014291.36|\n",
            "|    Gold|27286.690000000002|\n",
            "+--------+------------------+\n",
            "\n"
          ]
        }
      ]
    },
    {
      "cell_type": "code",
      "source": [
        "Vendas = Vendas_soma"
      ],
      "metadata": {
        "colab": {
          "base_uri": "https://localhost:8080/"
        },
        "id": "fdJh7pOPB48I",
        "outputId": "e51e8a25-a057-4686-d7cc-436302e58e8b"
      },
      "execution_count": null,
      "outputs": [
        {
          "output_type": "stream",
          "name": "stdout",
          "text": [
            "+---------+--------------------+------+------+--------+\n",
            "|ClienteID|             Cliente|Estado|Genero|  Status|\n",
            "+---------+--------------------+------+------+--------+\n",
            "|        1|Adelina Buenaventura|    RJ|     M|  Silver|\n",
            "|        2|        Adelino Gago|    RJ|     M|  Silver|\n",
            "|        3|     Adolfo Patrício|    PE|     M|  Silver|\n",
            "|        4|    Adriana Guedelha|    RO|     F|Platinum|\n",
            "|        5|       Adélio Lisboa|    SE|     M|  Silver|\n",
            "|        6|       Adérito Bahía|    MA|     M|  Silver|\n",
            "|        7|       Aida Dorneles|    RN|     F|  Silver|\n",
            "|        8|   Alarico Quinterno|    AC|     M|  Silver|\n",
            "|        9|    Alberto Cezimbra|    AM|     M|  Silver|\n",
            "|       10|    Alberto Monsanto|    RN|     M|    Gold|\n",
            "|       11|       Albino Canela|    AC|     M|  Silver|\n",
            "|       12|     Alceste Varanda|    RR|     F|  Silver|\n",
            "|       13|  Alcides Carvalhais|    RO|     M|  Silver|\n",
            "|       14|        Aldo Martins|    GO|     M|  Silver|\n",
            "|       15|   Alexandra Tabares|    MG|     F|  Silver|\n",
            "|       16|      Alfredo Cotrim|    SC|     M|  Silver|\n",
            "|       17|     Almeno Figueira|    SC|     M|  Silver|\n",
            "|       18|      Alvito Peralta|    AM|     M|  Silver|\n",
            "|       19|     Amadeu Martinho|    RN|     M|  Silver|\n",
            "|       20|      Amélia Estévez|    PE|     F|  Silver|\n",
            "+---------+--------------------+------+------+--------+\n",
            "only showing top 20 rows\n",
            "\n"
          ]
        }
      ]
    }
  ]
}