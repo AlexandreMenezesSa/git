{
  "nbformat": 4,
  "nbformat_minor": 0,
  "metadata": {
    "colab": {
      "provenance": [],
      "authorship_tag": "ABX9TyOrwpN6pSrm3WVuZzXkwdEf",
      "include_colab_link": true
    },
    "kernelspec": {
      "name": "python3",
      "display_name": "Python 3"
    },
    "language_info": {
      "name": "python"
    }
  },
  "cells": [
    {
      "cell_type": "markdown",
      "metadata": {
        "id": "view-in-github",
        "colab_type": "text"
      },
      "source": [
        "<a href=\"https://colab.research.google.com/github/AlexandreMenezesSa/pyspark/blob/main/spark_sql.ipynb\" target=\"_parent\"><img src=\"https://colab.research.google.com/assets/colab-badge.svg\" alt=\"Open In Colab\"/></a>"
      ]
    },
    {
      "cell_type": "markdown",
      "source": [
        "**Spark sql**"
      ],
      "metadata": {
        "id": "reQYBc1AZ9fG"
      }
    },
    {
      "cell_type": "code",
      "source": [
        "# instalar pyspark\n",
        "!pip install pyspark"
      ],
      "metadata": {
        "id": "8gxZI9P3aGrT"
      },
      "execution_count": null,
      "outputs": []
    },
    {
      "cell_type": "code",
      "source": [
        "#faz importação dos pacotes e inicia a sessão\n",
        "from pyspark.sql import SparkSession\n",
        "from pyspark.sql.functions import expr\n",
        "from pyspark.sql.types import *\n",
        "from pyspark.sql import functions as Func\n",
        "from pyspark.sql.functions import *\n",
        "spark = SparkSession.builder.master(\"local[*]\").appName(\"PySpark\").getOrCreate()"
      ],
      "metadata": {
        "id": "Oquez0sHaH52"
      },
      "execution_count": null,
      "outputs": []
    },
    {
      "cell_type": "code",
      "execution_count": null,
      "metadata": {
        "id": "szmdfknJZyXw"
      },
      "outputs": [],
      "source": [
        "#mostrar bancos de dados e tabelas\n",
        "spark.sql(\"show databases\").show()\n"
      ]
    },
    {
      "cell_type": "code",
      "source": [
        "#criar banco de dados\n",
        "spark.sql(\"create database desp\")\n",
        "spark.sql(\"use desp\").show()"
      ],
      "metadata": {
        "id": "eXy8qskqaSNC"
      },
      "execution_count": null,
      "outputs": []
    },
    {
      "cell_type": "code",
      "source": [
        "#criar tabela gerenciada\n",
        "arqschema = \"id INT, nome STRING, status STRING, cidade STRING, vendas INT, data STRING\"\n",
        "despachantes = spark.read.csv(\"despachantes.csv\", header=False, schema=arqschema)\n",
        "despachantes.write.saveAsTable(\"Despachantes\")"
      ],
      "metadata": {
        "id": "-Zny1pHtaS5z"
      },
      "execution_count": null,
      "outputs": []
    },
    {
      "cell_type": "code",
      "source": [
        "#mostrar que a tabela existe\n",
        "spark.sql(\"select * from despachantes\").show()"
      ],
      "metadata": {
        "id": "8gXNYQ_SaecL"
      },
      "execution_count": null,
      "outputs": []
    },
    {
      "cell_type": "code",
      "source": [
        "#mostra tabela\n",
        "spark.sql(\"show tables\").show()"
      ],
      "metadata": {
        "id": "eaDBXxExagqj"
      },
      "execution_count": null,
      "outputs": []
    },
    {
      "cell_type": "code",
      "source": [
        "\n",
        "#mudar banco de dados\n",
        "spark.sql(\"use default\").show()"
      ],
      "metadata": {
        "id": "C7KQdrY2ahgL"
      },
      "execution_count": null,
      "outputs": []
    }
  ]
}